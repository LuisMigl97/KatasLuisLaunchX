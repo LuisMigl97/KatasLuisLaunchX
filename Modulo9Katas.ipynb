{
 "cells": [
  {
   "cell_type": "markdown",
   "metadata": {},
   "source": [
    "# Ejercicio: Uso de funciones en Python\n",
    "Ejercicio 1: Trabajar con argumentos en funcione\n",
    "\n",
    "Comienza por crear una función que necesite tres lecturas de combustible y devuelva un informe:"
   ]
  },
  {
   "cell_type": "code",
   "execution_count": 111,
   "metadata": {},
   "outputs": [],
   "source": [
    "def generar_reporte(tanq1, tanq2, tanq3):\n",
    "    Prom = (tanq1 + tanq2 + tanq3) / 3\n",
    "    return f\"\"\"Reporte de Combustible:\n",
    "    Tanque 1: {tanq1}%\n",
    "    Tanque 2: {tanq2}%\n",
    "    Tanque 3: {tanq3}% \n",
    "    Promedio: {Prom}%\n",
    "    \"\"\""
   ]
  },
  {
   "cell_type": "code",
   "execution_count": 112,
   "metadata": {},
   "outputs": [
    {
     "name": "stdout",
     "output_type": "stream",
     "text": [
      "Reporte de Combustible:\n",
      "    Tanque 1: 30%\n",
      "    Tanque 2: 40%\n",
      "    Tanque 3: 70% \n",
      "    Promedio: 46.666666666666664%\n",
      "    \n"
     ]
    }
   ],
   "source": [
    "#se imprime con los tanques sin estar llenos\n",
    "print(generar_reporte(30, 40, 70))"
   ]
  },
  {
   "cell_type": "markdown",
   "metadata": {},
   "source": [
    "En lugar de simplemente crear el informe, la función también está calculando el promedio. Mejora la legibilidad extrayendo el cálculo promedio de la función en una nueva función para que el promedio se pueda hacer de forma independiente:"
   ]
  },
  {
   "cell_type": "code",
   "execution_count": 113,
   "metadata": {},
   "outputs": [
    {
     "data": {
      "text/plain": [
       "46.666666666666664"
      ]
     },
     "execution_count": 113,
     "metadata": {},
     "output_type": "execute_result"
    }
   ],
   "source": [
    "def promedio(datos):\n",
    "    total = sum(datos)\n",
    "    numDeElem = len(datos)\n",
    "    return total / numDeElem\n",
    "promedio([30, 40, 70]) "
   ]
  },
  {
   "cell_type": "markdown",
   "metadata": {},
   "source": [
    "Ahora actualiza la función de informes para llamando a la nueva función del promedio:"
   ]
  },
  {
   "cell_type": "code",
   "execution_count": 114,
   "metadata": {},
   "outputs": [
    {
     "name": "stdout",
     "output_type": "stream",
     "text": [
      "Reporte de combustible:\n",
      "    Tanque 1: 30%\n",
      "    Tanque 2: 40%\n",
      "    Tanque 3: 70% \n",
      "    Promedio Total: 46.666666666666664%\n",
      "    \n"
     ]
    }
   ],
   "source": [
    "def generar_reporte(tanq1, tanq2, tanq3):\n",
    "    return f\"\"\"Reporte de combustible:\n",
    "    Tanque 1: {tanq1}%\n",
    "    Tanque 2: {tanq2}%\n",
    "    Tanque 3: {tanq3}% \n",
    "    Promedio Total: {promedio([tanq1, tanq2, tanq3])}%\n",
    "    \"\"\"\n",
    "\n",
    "#Reporte\n",
    "print(generar_reporte(30, 40, 70))"
   ]
  },
  {
   "cell_type": "markdown",
   "metadata": {},
   "source": [
    "# Ejercicio 2: Trabajo con argumentos de palabra clave\n",
    "Ejercicio : Trabajar con argumentos de palabras clave en funciones\n",
    "\n",
    "En este ejercicio, construirás un informe de cohete que requiere varias piezas de información, como el tiempo hasta el destino, el combustible a la izquierda y el nombre del destino. Comienza por crear una función que creará un informe preciso de la misión:\n",
    "\n"
   ]
  },
  {
   "cell_type": "code",
   "execution_count": 115,
   "metadata": {},
   "outputs": [
    {
     "name": "stdout",
     "output_type": "stream",
     "text": [
      "\n",
      "    Mision hacia Venus\n",
      "    Tiempo de vuelo: 40 minutos\n",
      "    Combustible restante: 300000 galones\n",
      "    \n"
     ]
    }
   ],
   "source": [
    "def reporte(prelan, tiemvuelo, destino, tanqext, tanqint):\n",
    "    return f\"\"\"\n",
    "    Mision hacia {destino}\n",
    "    Tiempo de vuelo: {prelan + tiemvuelo} minutos\n",
    "    Combustible restante: {tanqext + tanqint} galones\n",
    "    \"\"\"\n",
    "\n",
    "print(reporte(10, 30, \"Venus\", 100000, 200000))"
   ]
  },
  {
   "cell_type": "markdown",
   "metadata": {},
   "source": [
    "La función es problemática porque no se puede adaptar para minutos adicionales o tanques adicionales de combustible. Hazlo más flexible permitiendo cualquier número de pasos basados en el tiempo y cualquier número de tanques. En lugar de usar *args y **kwargs, aprovecha el hecho de que puedes usar cualquier nombre que desees. Asegurate que la función sea más legible mediante el uso de nombres de variables que están asociados con las entradas, como *minutes y **fuel_reservoirs:"
   ]
  },
  {
   "cell_type": "code",
   "execution_count": 116,
   "metadata": {},
   "outputs": [
    {
     "name": "stdout",
     "output_type": "stream",
     "text": [
      "\n",
      "    Mision hacia Marte\n",
      "    Tiempo de viaje: 76 minutos\n",
      "    Combustible restante: 500000 galones\n",
      "    \n"
     ]
    }
   ],
   "source": [
    "#actualizamos la funcion del reporte\n",
    "def reporte(destino, *minutos, **reservacombust):\n",
    "    return f\"\"\"\n",
    "    Mision hacia {destino}\n",
    "    Tiempo de viaje: {sum(minutos)} minutos\n",
    "    Combustible restante: {sum(reservacombust.values())} galones\n",
    "    \"\"\"\n",
    "\n",
    "print(reporte(\"Marte\", 10, 15, 51, main=300000, external=200000))"
   ]
  },
  {
   "cell_type": "markdown",
   "metadata": {},
   "source": [
    "Debido a que el combustible que queda en los tanques es específico de cada tanque, actualiza la función para usar el nombre de cada tanque en el informe:"
   ]
  },
  {
   "cell_type": "code",
   "execution_count": 117,
   "metadata": {},
   "outputs": [
    {
     "name": "stdout",
     "output_type": "stream",
     "text": [
      "\n",
      "    Mision hacia Marte\n",
      "    Toiempo de viaje: 74 minutos\n",
      "    Combustible total restante: 30000 galones\n",
      "    Principal  = 20000 galones restantes\n",
      "Externo  = 10000 galones restantes\n",
      "\n"
     ]
    }
   ],
   "source": [
    "#Funcion Final\n",
    "def reportem(destino, *minutos, **reservacombust):\n",
    "    reporte = f\"\"\"\n",
    "    Mision hacia {destino}\n",
    "    Toiempo de viaje: {sum(minutos)} minutos\n",
    "    Combustible total restante: {sum(reservacombust.values())} galones\n",
    "    \"\"\"\n",
    "    for tanque, galones in reservacombust.items():\n",
    "        reporte += f\"{tanque}  = {galones} galones restantes\\n\"\n",
    "    return reporte\n",
    "\n",
    "print(reportem(\"Marte\", 8, 11, 55, Principal=20000, Externo=10000))"
   ]
  }
 ],
 "metadata": {
  "interpreter": {
   "hash": "377463e67c9ff96cefbb1fad814e8ecdf99694d8be23d0760cb461e507ac6f12"
  },
  "kernelspec": {
   "display_name": "Python 3.10.2 64-bit (windows store)",
   "language": "python",
   "name": "python3"
  },
  "language_info": {
   "codemirror_mode": {
    "name": "ipython",
    "version": 3
   },
   "file_extension": ".py",
   "mimetype": "text/x-python",
   "name": "python",
   "nbconvert_exporter": "python",
   "pygments_lexer": "ipython3",
   "version": "3.10.2"
  },
  "orig_nbformat": 4
 },
 "nbformat": 4,
 "nbformat_minor": 2
}

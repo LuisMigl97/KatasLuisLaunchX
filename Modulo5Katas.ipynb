{
 "cells": [
  {
   "cell_type": "markdown",
   "metadata": {},
   "source": [
    "# Ejercicio1 - Utilizar operadores aritméticos\n",
    "\n",
    "Operadores aritméticos en Python\n",
    "Python proporciona operadores aritméticos comunes para que puedas realizar operaciones matemáticas en tu código. Estos incluyen las cuatro operaciones principales de suma, resta, multiplicación y división.\n",
    "\n",
    "Exploremos cómo podemos crear un programa que pueda calcular la distancia entre dos planetas. Comenzaremos usando dos distancias de planetas: Tierra (149.597.870 km) y Júpiter (778.547.200 km)."
   ]
  },
  {
   "cell_type": "code",
   "execution_count": 33,
   "metadata": {},
   "outputs": [],
   "source": [
    "#creamos las variables\n",
    "tierra = 149597870\n",
    "jupiter = 778547200\n"
   ]
  },
  {
   "cell_type": "code",
   "execution_count": 34,
   "metadata": {},
   "outputs": [
    {
     "name": "stdout",
     "output_type": "stream",
     "text": [
      "La distancia entre los planetas es de 628949330 kilometros\n",
      "La distancia en millas es de 390577533.93\n"
     ]
    }
   ],
   "source": [
    "#calculo de distancia y conversion a millas\n",
    "dist=jupiter-tierra\n",
    "distmi= dist*.621\n",
    "print('La distancia entre los planetas es de ' +str(dist) + ' kilometros')\n",
    "print('La distancia en millas es de ' +str(distmi))\n"
   ]
  },
  {
   "cell_type": "markdown",
   "metadata": {},
   "source": [
    "# Ejercicio 2: convierte cadenas en números y usa valores absolutos\n",
    "Crear una aplicación para trabajar con números y entrada de usuario\n",
    "Con frecuencia, deberás convertir los valores de cadena en números para realizar correctamente diferentes operaciones o determinar el valor absoluto de un número.\n",
    "\n",
    "Para crear nuestra aplicación, queremos leer la distancia del sol para dos planetas, y luego mostrar la distancia entre los planetas. Haremos esto usando input para leer los valores, int para convertir a entero y luego abs para convertir el resultado en su valor absoluto."
   ]
  },
  {
   "cell_type": "code",
   "execution_count": 35,
   "metadata": {},
   "outputs": [],
   "source": [
    "planeta1=input('Ingresa la distancia en kilometros del sol hacia el primer planeta')\n",
    "planeta2=input('Ingresa la distancia en kilometros del sol hacia el segundo planeta')"
   ]
  },
  {
   "cell_type": "code",
   "execution_count": 36,
   "metadata": {},
   "outputs": [],
   "source": [
    "#Conversion de str a int\n",
    "\n",
    "planeta1=int(planeta1)\n",
    "planeta2=int(planeta2)"
   ]
  },
  {
   "cell_type": "code",
   "execution_count": 37,
   "metadata": {},
   "outputs": [
    {
     "name": "stdout",
     "output_type": "stream",
     "text": [
      "629000000\n",
      "390609000.0\n"
     ]
    }
   ],
   "source": [
    "#Se realiza el calculo y se convierte a valor absoluto, utilizar .621 para las millas\n",
    "dist2= planeta2 - planeta1\n",
    "print(dist2)\n",
    "\n",
    "distmi2= dist2*0.621\n",
    "print(abs(distmi2))"
   ]
  }
 ],
 "metadata": {
  "interpreter": {
   "hash": "377463e67c9ff96cefbb1fad814e8ecdf99694d8be23d0760cb461e507ac6f12"
  },
  "kernelspec": {
   "display_name": "Python 3.10.2 64-bit (windows store)",
   "language": "python",
   "name": "python3"
  },
  "language_info": {
   "codemirror_mode": {
    "name": "ipython",
    "version": 3
   },
   "file_extension": ".py",
   "mimetype": "text/x-python",
   "name": "python",
   "nbconvert_exporter": "python",
   "pygments_lexer": "ipython3",
   "version": "3.10.2"
  },
  "orig_nbformat": 4
 },
 "nbformat": 4,
 "nbformat_minor": 2
}
